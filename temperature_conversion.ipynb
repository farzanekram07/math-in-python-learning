{
 "cells": [
  {
   "attachments": {},
   "cell_type": "markdown",
   "metadata": {},
   "source": [
    "Write a program that converts a temperature in Fahrenheit to Celsius using the formula C = (F - 32) * 5/9."
   ]
  },
  {
   "cell_type": "code",
   "execution_count": 1,
   "metadata": {},
   "outputs": [
    {
     "name": "stdout",
     "output_type": "stream",
     "text": [
      "temp_in_celcius:  9.444444444444445\n"
     ]
    }
   ],
   "source": [
    "temp_in_fahrenheit = int(input())\n",
    "\n",
    "convert_temp_in_celcius = (temp_in_fahrenheit - 32) * 5/9\n",
    "print(\"temp_in_celcius: \", convert_temp_in_celcius) "
   ]
  },
  {
   "cell_type": "code",
   "execution_count": 9,
   "metadata": {},
   "outputs": [
    {
     "name": "stdout",
     "output_type": "stream",
     "text": [
      "Temperature Converter\n",
      "22.0 degrees Celsius is equal to 71.6 degrees Fahrenheit.\n"
     ]
    }
   ],
   "source": [
    "print(\"Temperature Converter\")\n",
    "\n",
    "def celcius_to_fahrenheit(celcius):\n",
    "    temp_in_fahrenheit = (celcius * 9) / 5 + 32\n",
    "    return temp_in_fahrenheit\n",
    "\n",
    "def fahrenheit_to_celcius(fahrenheit):\n",
    "    convert_temp_in_celcius = (fahrenheit - 32) * 5/9\n",
    "    return convert_temp_in_celcius\n",
    "\n",
    "conversion_type = input(\"Enter conversion type (C to F or F to C): \")\n",
    "\n",
    "if conversion_type == \"C to F\":\n",
    "    celcius = float(input(\"Enter temperature in Celsius: \"))\n",
    "    temp_in_fahrenheit = celcius_to_fahrenheit(celcius)\n",
    "    print(f\"{celcius} degrees Celsius is equal to {temp_in_fahrenheit} degrees Fahrenheit.\")\n",
    "elif conversion_type == \"F to C\":\n",
    "    fahrenheit = float(input(\"Enter temperature in Fahrenheit: \"))\n",
    "    convert_temp_in_celcius = fahrenheit_to_celcius(fahrenheit)\n",
    "    print(f\"{fahrenheit} degrees Fahrenheit is equal to {convert_temp_in_celcius} degrees Celsius.\")\n",
    "else:\n",
    "    print(\"Invalid conversion type.\")\n"
   ]
  }
 ],
 "metadata": {
  "kernelspec": {
   "display_name": "Python 3",
   "language": "python",
   "name": "python3"
  },
  "language_info": {
   "codemirror_mode": {
    "name": "ipython",
    "version": 3
   },
   "file_extension": ".py",
   "mimetype": "text/x-python",
   "name": "python",
   "nbconvert_exporter": "python",
   "pygments_lexer": "ipython3",
   "version": "3.10.6"
  },
  "orig_nbformat": 4
 },
 "nbformat": 4,
 "nbformat_minor": 2
}
