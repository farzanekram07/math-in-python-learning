{
 "cells": [
  {
   "attachments": {},
   "cell_type": "markdown",
   "metadata": {},
   "source": [
    "Write a program that calculates the area and perimeter of a rectangle given its length and width."
   ]
  },
  {
   "cell_type": "code",
   "execution_count": 1,
   "metadata": {},
   "outputs": [
    {
     "name": "stdout",
     "output_type": "stream",
     "text": [
      "Area:  12\n",
      "Perimeter:  24\n"
     ]
    }
   ],
   "source": [
    "#rectangle has length and breadth\n",
    "length = int(input())\n",
    "breadth = int(input())\n",
    "\n",
    "area_of_rectangle = length * breadth\n",
    "perimeter_of_rectangle = 2 * length * breadth\n",
    "\n",
    "print(\"Area: \", area_of_rectangle)\n",
    "print(\"Perimeter: \", perimeter_of_rectangle)"
   ]
  }
 ],
 "metadata": {
  "kernelspec": {
   "display_name": "Python 3",
   "language": "python",
   "name": "python3"
  },
  "language_info": {
   "codemirror_mode": {
    "name": "ipython",
    "version": 3
   },
   "file_extension": ".py",
   "mimetype": "text/x-python",
   "name": "python",
   "nbconvert_exporter": "python",
   "pygments_lexer": "ipython3",
   "version": "3.10.6"
  },
  "orig_nbformat": 4
 },
 "nbformat": 4,
 "nbformat_minor": 2
}
