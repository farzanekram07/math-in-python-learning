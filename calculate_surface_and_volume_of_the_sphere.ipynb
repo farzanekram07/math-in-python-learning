{
 "cells": [
  {
   "attachments": {},
   "cell_type": "markdown",
   "metadata": {},
   "source": [
    "Write a program that calculates the volume and surface area of a sphere given its radius."
   ]
  },
  {
   "cell_type": "code",
   "execution_count": 2,
   "metadata": {},
   "outputs": [
    {
     "name": "stdout",
     "output_type": "stream",
     "text": [
      "surface of the sphere:  113.04\n",
      "volume of the sphere:  37.68\n"
     ]
    }
   ],
   "source": [
    "pi = 3.14\n",
    "radius = int(input(\"Enter radius of the sphere: \"))\n",
    "\n",
    "surface_of_the_sphere = 4 * pi * (radius * radius)\n",
    "volume_of_the_sphere = 4/3 * pi * (radius * radius)\n",
    "\n",
    "print(\"surface of the sphere: \", surface_of_the_sphere)\n",
    "print(\"volume of the sphere: \", volume_of_the_sphere)"
   ]
  },
  {
   "attachments": {},
   "cell_type": "markdown",
   "metadata": {},
   "source": [
    "Geometric method:\n",
    "Consider a sphere of radius r. We can slice this sphere into many horizontal rings, each with a width of Δr. The circumference of each ring is 2πr, and its area is approximately equal to the area of a flat disk with radius r times the width of the ring (2πr Δr). Summing up the areas of all these rings using calculus, we get the formula A = ∫(0 to r) 2πr Δr = 4πr^2."
   ]
  },
  {
   "attachments": {},
   "cell_type": "markdown",
   "metadata": {},
   "source": [
    "Calculus method:\n",
    "We start by considering a sphere of radius r, with equation x^2 + y^2 + z^2 = r^2. We want to find the surface area of this sphere. We can think of the sphere as being made up of many small, flat surfaces, each of which is a tangent plane to the sphere at a point on its surface. We can express the equation of such a tangent plane as z = f(x, y) = ±√(r^2 - x^2 - y^2) depending on which side of the sphere we are considering. The area of this small tangent plane is then given by the formula A = ∫∫dS = ∫∫ √(1 + (∂f/∂x)^2 + (∂f/∂y)^2) dxdy.\n",
    "\n",
    "Substituting f(x, y) into this expression and simplifying, we obtain A = ∫∫ 2πr cos(θ) dxdy, where θ is the angle between the z-axis and the normal vector to the tangent plane at a given point (x, y). Integrating over the region of the sphere using polar coordinates, we get A = 4πr^2."
   ]
  },
  {
   "cell_type": "code",
   "execution_count": 7,
   "metadata": {},
   "outputs": [
    {
     "name": "stdout",
     "output_type": "stream",
     "text": [
      "28.274333882308138\n"
     ]
    }
   ],
   "source": [
    "import math\n",
    "\n",
    "radius = 3\n",
    "area = math.pi * radius * radius\n",
    "print(area)"
   ]
  }
 ],
 "metadata": {
  "kernelspec": {
   "display_name": "Python 3",
   "language": "python",
   "name": "python3"
  },
  "language_info": {
   "codemirror_mode": {
    "name": "ipython",
    "version": 3
   },
   "file_extension": ".py",
   "mimetype": "text/x-python",
   "name": "python",
   "nbconvert_exporter": "python",
   "pygments_lexer": "ipython3",
   "version": "3.10.6"
  },
  "orig_nbformat": 4
 },
 "nbformat": 4,
 "nbformat_minor": 2
}
