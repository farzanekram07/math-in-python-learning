{
 "cells": [
  {
   "attachments": {},
   "cell_type": "markdown",
   "metadata": {},
   "source": [
    "Write a program that generates a random integer between 1 and 100 and prompts the user to guess the number. The program should provide feedback to the user indicating whether their guess is too high or too low."
   ]
  },
  {
   "attachments": {},
   "cell_type": "markdown",
   "metadata": {},
   "source": [
    "# using Random Module"
   ]
  },
  {
   "cell_type": "code",
   "execution_count": 2,
   "metadata": {},
   "outputs": [
    {
     "name": "stdout",
     "output_type": "stream",
     "text": [
      "too low\n",
      "too low\n",
      "too high\n",
      "too high\n",
      "too low\n",
      "too low\n",
      "too low\n",
      "too low\n",
      "too low\n",
      "too low\n",
      "too low\n",
      "too low\n",
      "too low\n",
      "too low\n",
      "Congratulations! You guessed the number.\n"
     ]
    }
   ],
   "source": [
    "import random\n",
    "\n",
    "rand = random.randint(1,100)\n",
    "\n",
    "guess = int(input(\"Enter number between 1 to 100: \"))\n",
    "\n",
    "while guess != rand:\n",
    "    if guess > rand:\n",
    "        print(\"too high\")\n",
    "    else:\n",
    "        print(\"too low\")\n",
    "    guess = int(input(\"Guess again: \"))\n",
    "\n",
    "print(\"Congratulations! You guessed the number.\")"
   ]
  },
  {
   "attachments": {},
   "cell_type": "markdown",
   "metadata": {},
   "source": [
    "# Another way using time module"
   ]
  },
  {
   "cell_type": "code",
   "execution_count": 7,
   "metadata": {},
   "outputs": [
    {
     "name": "stdout",
     "output_type": "stream",
     "text": [
      "Too low\n",
      "Too high\n",
      "Too high\n",
      "Too high\n",
      "Too high\n",
      "Too low\n",
      "Congratulations! You guessed the number.\n"
     ]
    }
   ],
   "source": [
    "import time\n",
    "\n",
    "seed = int(time.time() * 1000)\n",
    "number = (seed % 100) + 1\n",
    "\n",
    "guess = int(input(\"Guess a number between 1 and 100: \"))\n",
    "\n",
    "while guess != number:\n",
    "    if guess > number:\n",
    "        print(\"Too high\")\n",
    "    else:\n",
    "        print(\"Too low\")\n",
    "    guess = int(input(\"Guess again: \"))\n",
    "\n",
    "print(\"Congratulations! You guessed the number.\")\n"
   ]
  },
  {
   "attachments": {},
   "cell_type": "markdown",
   "metadata": {},
   "source": [
    "# Another way using Unique identifier"
   ]
  },
  {
   "cell_type": "code",
   "execution_count": 6,
   "metadata": {},
   "outputs": [
    {
     "name": "stdout",
     "output_type": "stream",
     "text": [
      "Too low\n",
      "Too low\n",
      "Too low\n",
      "Too high\n",
      "Too high\n",
      "Too high\n",
      "Too low\n",
      "Too low\n",
      "Congratulations! You guessed the number.\n"
     ]
    }
   ],
   "source": [
    "uid = id(0)\n",
    "\n",
    "number = ((uid % 100) + 1)\n",
    "\n",
    "guess = int(input(\"Guess a number between 1 and 100: \"))\n",
    "\n",
    "while guess != number:\n",
    "    if guess > number:\n",
    "        print(\"Too high\")\n",
    "    else:\n",
    "        print(\"Too low\")\n",
    "    guess = int(input(\"Guess again: \"))\n",
    "\n",
    "print(\"Congratulations! You guessed the number.\")\n"
   ]
  },
  {
   "attachments": {},
   "cell_type": "markdown",
   "metadata": {},
   "source": [
    "# Another way using secrets Module"
   ]
  },
  {
   "cell_type": "code",
   "execution_count": 8,
   "metadata": {},
   "outputs": [
    {
     "name": "stdout",
     "output_type": "stream",
     "text": [
      "Too low\n",
      "Too low\n",
      "Too low\n",
      "Too low\n",
      "Too low\n",
      "Too low\n",
      "Too high\n",
      "Too high\n",
      "Too low\n",
      "Too low\n",
      "Congratulations! You guessed the number.\n"
     ]
    }
   ],
   "source": [
    "import secrets\n",
    "\n",
    "number = secrets.randbelow(100) + 1\n",
    "\n",
    "while guess != number:\n",
    "    if guess > number:\n",
    "        print(\"Too high\")\n",
    "    else:\n",
    "        print(\"Too low\")\n",
    "    guess = int(input(\"Guess again: \"))\n",
    "\n",
    "print(\"Congratulations! You guessed the number.\")"
   ]
  }
 ],
 "metadata": {
  "kernelspec": {
   "display_name": "Python 3",
   "language": "python",
   "name": "python3"
  },
  "language_info": {
   "codemirror_mode": {
    "name": "ipython",
    "version": 3
   },
   "file_extension": ".py",
   "mimetype": "text/x-python",
   "name": "python",
   "nbconvert_exporter": "python",
   "pygments_lexer": "ipython3",
   "version": "3.10.6"
  },
  "orig_nbformat": 4
 },
 "nbformat": 4,
 "nbformat_minor": 2
}
