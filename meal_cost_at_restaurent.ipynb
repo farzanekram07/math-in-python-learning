{
 "cells": [
  {
   "attachments": {},
   "cell_type": "markdown",
   "metadata": {},
   "source": [
    "Write a program that calculates the total cost of a meal at a restaurant, including tax and tip. The program should prompt the user to enter the cost of the meal and the tax and tip rates."
   ]
  },
  {
   "cell_type": "code",
   "execution_count": 1,
   "metadata": {},
   "outputs": [
    {
     "name": "stdout",
     "output_type": "stream",
     "text": [
      "The total cost of your meal, including tax and tip, is: $27.25\n"
     ]
    }
   ],
   "source": [
    "meal_cost = float(input(\"What is the cost of your meal? \"))\n",
    "\n",
    "tax_rate = float(input(\"What is the tax rate for your area? \"))\n",
    "\n",
    "tip_rate = float(input(\"What percentage would you like to tip? \"))\n",
    "\n",
    "tax_amount = meal_cost * (tax_rate / 100)\n",
    "\n",
    "tip_amount = meal_cost * (tip_rate / 100)\n",
    "\n",
    "total_cost = meal_cost + tax_amount + tip_amount\n",
    "\n",
    "print(\"The total cost of your meal, including tax and tip, is: $%.2f\" % total_cost)\n"
   ]
  }
 ],
 "metadata": {
  "kernelspec": {
   "display_name": "Python 3",
   "language": "python",
   "name": "python3"
  },
  "language_info": {
   "codemirror_mode": {
    "name": "ipython",
    "version": 3
   },
   "file_extension": ".py",
   "mimetype": "text/x-python",
   "name": "python",
   "nbconvert_exporter": "python",
   "pygments_lexer": "ipython3",
   "version": "3.10.6"
  },
  "orig_nbformat": 4
 },
 "nbformat": 4,
 "nbformat_minor": 2
}
